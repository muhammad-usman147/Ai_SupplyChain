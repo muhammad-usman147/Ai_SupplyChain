{
 "cells": [
  {
   "cell_type": "code",
   "execution_count": 31,
   "metadata": {},
   "outputs": [],
   "source": [
    "import pandas as pd\n",
    "import numpy as np\n",
    "from sklearn.preprocessing import LabelEncoder\n",
    "from sklearn.svm import SVC"
   ]
  },
  {
   "cell_type": "code",
   "execution_count": 2,
   "metadata": {},
   "outputs": [],
   "source": [
    "df = pd.read_excel('Raffles.xlsx')"
   ]
  },
  {
   "cell_type": "code",
   "execution_count": 3,
   "metadata": {},
   "outputs": [
    {
     "data": {
      "text/html": [
       "<div>\n",
       "<style scoped>\n",
       "    .dataframe tbody tr th:only-of-type {\n",
       "        vertical-align: middle;\n",
       "    }\n",
       "\n",
       "    .dataframe tbody tr th {\n",
       "        vertical-align: top;\n",
       "    }\n",
       "\n",
       "    .dataframe thead th {\n",
       "        text-align: right;\n",
       "    }\n",
       "</style>\n",
       "<table border=\"1\" class=\"dataframe\">\n",
       "  <thead>\n",
       "    <tr style=\"text-align: right;\">\n",
       "      <th></th>\n",
       "      <th>Date</th>\n",
       "      <th>Raffle</th>\n",
       "      <th>Clubs</th>\n",
       "      <th>Diamond</th>\n",
       "      <th>Heart</th>\n",
       "      <th>Leaf</th>\n",
       "    </tr>\n",
       "  </thead>\n",
       "  <tbody>\n",
       "    <tr>\n",
       "      <th>0</th>\n",
       "      <td>2019-11-11</td>\n",
       "      <td>40592</td>\n",
       "      <td>Q</td>\n",
       "      <td>10</td>\n",
       "      <td>Q</td>\n",
       "      <td>8</td>\n",
       "    </tr>\n",
       "    <tr>\n",
       "      <th>1</th>\n",
       "      <td>2019-11-11</td>\n",
       "      <td>40591</td>\n",
       "      <td>10</td>\n",
       "      <td>Q</td>\n",
       "      <td>9</td>\n",
       "      <td>K</td>\n",
       "    </tr>\n",
       "    <tr>\n",
       "      <th>2</th>\n",
       "      <td>2019-11-11</td>\n",
       "      <td>40590</td>\n",
       "      <td>J</td>\n",
       "      <td>K</td>\n",
       "      <td>9</td>\n",
       "      <td>9</td>\n",
       "    </tr>\n",
       "    <tr>\n",
       "      <th>3</th>\n",
       "      <td>2019-11-11</td>\n",
       "      <td>40589</td>\n",
       "      <td>Q</td>\n",
       "      <td>K</td>\n",
       "      <td>K</td>\n",
       "      <td>7</td>\n",
       "    </tr>\n",
       "    <tr>\n",
       "      <th>4</th>\n",
       "      <td>2019-11-11</td>\n",
       "      <td>40588</td>\n",
       "      <td>10</td>\n",
       "      <td>A</td>\n",
       "      <td>A</td>\n",
       "      <td>J</td>\n",
       "    </tr>\n",
       "    <tr>\n",
       "      <th>...</th>\n",
       "      <td>...</td>\n",
       "      <td>...</td>\n",
       "      <td>...</td>\n",
       "      <td>...</td>\n",
       "      <td>...</td>\n",
       "      <td>...</td>\n",
       "    </tr>\n",
       "    <tr>\n",
       "      <th>37588</th>\n",
       "      <td>1994-03-14</td>\n",
       "      <td>5</td>\n",
       "      <td>10</td>\n",
       "      <td>9</td>\n",
       "      <td>9</td>\n",
       "      <td>7</td>\n",
       "    </tr>\n",
       "    <tr>\n",
       "      <th>37589</th>\n",
       "      <td>1994-03-13</td>\n",
       "      <td>4</td>\n",
       "      <td>J</td>\n",
       "      <td>J</td>\n",
       "      <td>A</td>\n",
       "      <td>9</td>\n",
       "    </tr>\n",
       "    <tr>\n",
       "      <th>37590</th>\n",
       "      <td>1994-03-11</td>\n",
       "      <td>3</td>\n",
       "      <td>7</td>\n",
       "      <td>A</td>\n",
       "      <td>9</td>\n",
       "      <td>Q</td>\n",
       "    </tr>\n",
       "    <tr>\n",
       "      <th>37591</th>\n",
       "      <td>1994-03-10</td>\n",
       "      <td>2</td>\n",
       "      <td>9</td>\n",
       "      <td>K</td>\n",
       "      <td>K</td>\n",
       "      <td>Q</td>\n",
       "    </tr>\n",
       "    <tr>\n",
       "      <th>37592</th>\n",
       "      <td>1994-03-09</td>\n",
       "      <td>1</td>\n",
       "      <td>A</td>\n",
       "      <td>9</td>\n",
       "      <td>A</td>\n",
       "      <td>9</td>\n",
       "    </tr>\n",
       "  </tbody>\n",
       "</table>\n",
       "<p>37593 rows × 6 columns</p>\n",
       "</div>"
      ],
      "text/plain": [
       "            Date  Raffle Clubs Diamond Heart Leaf\n",
       "0     2019-11-11   40592     Q      10     Q    8\n",
       "1     2019-11-11   40591    10       Q     9    K\n",
       "2     2019-11-11   40590     J       K     9    9\n",
       "3     2019-11-11   40589     Q       K     K    7\n",
       "4     2019-11-11   40588    10       A     A    J\n",
       "...          ...     ...   ...     ...   ...  ...\n",
       "37588 1994-03-14       5    10       9     9    7\n",
       "37589 1994-03-13       4     J       J     A    9\n",
       "37590 1994-03-11       3     7       A     9    Q\n",
       "37591 1994-03-10       2     9       K     K    Q\n",
       "37592 1994-03-09       1     A       9     A    9\n",
       "\n",
       "[37593 rows x 6 columns]"
      ]
     },
     "execution_count": 3,
     "metadata": {},
     "output_type": "execute_result"
    }
   ],
   "source": [
    "df"
   ]
  },
  {
   "cell_type": "code",
   "execution_count": 4,
   "metadata": {},
   "outputs": [],
   "source": [
    "Y = df['Raffle']"
   ]
  },
  {
   "cell_type": "code",
   "execution_count": 5,
   "metadata": {},
   "outputs": [],
   "source": [
    "X = df[['Clubs','Diamond','Heart','Leaf']]"
   ]
  },
  {
   "cell_type": "code",
   "execution_count": 6,
   "metadata": {},
   "outputs": [
    {
     "data": {
      "text/html": [
       "<div>\n",
       "<style scoped>\n",
       "    .dataframe tbody tr th:only-of-type {\n",
       "        vertical-align: middle;\n",
       "    }\n",
       "\n",
       "    .dataframe tbody tr th {\n",
       "        vertical-align: top;\n",
       "    }\n",
       "\n",
       "    .dataframe thead th {\n",
       "        text-align: right;\n",
       "    }\n",
       "</style>\n",
       "<table border=\"1\" class=\"dataframe\">\n",
       "  <thead>\n",
       "    <tr style=\"text-align: right;\">\n",
       "      <th></th>\n",
       "      <th>Clubs</th>\n",
       "      <th>Diamond</th>\n",
       "      <th>Heart</th>\n",
       "      <th>Leaf</th>\n",
       "    </tr>\n",
       "  </thead>\n",
       "  <tbody>\n",
       "    <tr>\n",
       "      <th>0</th>\n",
       "      <td>Q</td>\n",
       "      <td>10</td>\n",
       "      <td>Q</td>\n",
       "      <td>8</td>\n",
       "    </tr>\n",
       "    <tr>\n",
       "      <th>1</th>\n",
       "      <td>10</td>\n",
       "      <td>Q</td>\n",
       "      <td>9</td>\n",
       "      <td>K</td>\n",
       "    </tr>\n",
       "    <tr>\n",
       "      <th>2</th>\n",
       "      <td>J</td>\n",
       "      <td>K</td>\n",
       "      <td>9</td>\n",
       "      <td>9</td>\n",
       "    </tr>\n",
       "    <tr>\n",
       "      <th>3</th>\n",
       "      <td>Q</td>\n",
       "      <td>K</td>\n",
       "      <td>K</td>\n",
       "      <td>7</td>\n",
       "    </tr>\n",
       "    <tr>\n",
       "      <th>4</th>\n",
       "      <td>10</td>\n",
       "      <td>A</td>\n",
       "      <td>A</td>\n",
       "      <td>J</td>\n",
       "    </tr>\n",
       "    <tr>\n",
       "      <th>...</th>\n",
       "      <td>...</td>\n",
       "      <td>...</td>\n",
       "      <td>...</td>\n",
       "      <td>...</td>\n",
       "    </tr>\n",
       "    <tr>\n",
       "      <th>37588</th>\n",
       "      <td>10</td>\n",
       "      <td>9</td>\n",
       "      <td>9</td>\n",
       "      <td>7</td>\n",
       "    </tr>\n",
       "    <tr>\n",
       "      <th>37589</th>\n",
       "      <td>J</td>\n",
       "      <td>J</td>\n",
       "      <td>A</td>\n",
       "      <td>9</td>\n",
       "    </tr>\n",
       "    <tr>\n",
       "      <th>37590</th>\n",
       "      <td>7</td>\n",
       "      <td>A</td>\n",
       "      <td>9</td>\n",
       "      <td>Q</td>\n",
       "    </tr>\n",
       "    <tr>\n",
       "      <th>37591</th>\n",
       "      <td>9</td>\n",
       "      <td>K</td>\n",
       "      <td>K</td>\n",
       "      <td>Q</td>\n",
       "    </tr>\n",
       "    <tr>\n",
       "      <th>37592</th>\n",
       "      <td>A</td>\n",
       "      <td>9</td>\n",
       "      <td>A</td>\n",
       "      <td>9</td>\n",
       "    </tr>\n",
       "  </tbody>\n",
       "</table>\n",
       "<p>37593 rows × 4 columns</p>\n",
       "</div>"
      ],
      "text/plain": [
       "      Clubs Diamond Heart Leaf\n",
       "0         Q      10     Q    8\n",
       "1        10       Q     9    K\n",
       "2         J       K     9    9\n",
       "3         Q       K     K    7\n",
       "4        10       A     A    J\n",
       "...     ...     ...   ...  ...\n",
       "37588    10       9     9    7\n",
       "37589     J       J     A    9\n",
       "37590     7       A     9    Q\n",
       "37591     9       K     K    Q\n",
       "37592     A       9     A    9\n",
       "\n",
       "[37593 rows x 4 columns]"
      ]
     },
     "execution_count": 6,
     "metadata": {},
     "output_type": "execute_result"
    }
   ],
   "source": [
    "X"
   ]
  },
  {
   "cell_type": "code",
   "execution_count": 7,
   "metadata": {},
   "outputs": [],
   "source": [
    "cols = X.columns"
   ]
  },
  {
   "cell_type": "code",
   "execution_count": 8,
   "metadata": {},
   "outputs": [],
   "source": [
    "enc = LabelEncoder()"
   ]
  },
  {
   "cell_type": "code",
   "execution_count": 9,
   "metadata": {},
   "outputs": [],
   "source": [
    "encoded_data = dict()\n",
    "for c in cols:\n",
    "    encoded_data[c] = enc.fit_transform(X[c].astype(str))"
   ]
  },
  {
   "cell_type": "code",
   "execution_count": 10,
   "metadata": {},
   "outputs": [],
   "source": [
    "encoded_data = pd.DataFrame(encoded_data)"
   ]
  },
  {
   "cell_type": "code",
   "execution_count": 11,
   "metadata": {},
   "outputs": [],
   "source": [
    "from sklearn.model_selection import train_test_split"
   ]
  },
  {
   "cell_type": "code",
   "execution_count": 12,
   "metadata": {},
   "outputs": [],
   "source": [
    "X_train, X_test, y_train, y_test = train_test_split(encoded_data,Y,test_size = 0.2,random_state = 9,shuffle = False)"
   ]
  },
  {
   "cell_type": "code",
   "execution_count": 19,
   "metadata": {},
   "outputs": [
    {
     "data": {
      "text/plain": [
       "((30074, 4), (7519, 4), (30074,), (7519,))"
      ]
     },
     "execution_count": 19,
     "metadata": {},
     "output_type": "execute_result"
    }
   ],
   "source": [
    "X_train.shape, X_test.shape, y_train.shape, y_test.shape"
   ]
  },
  {
   "cell_type": "code",
   "execution_count": 20,
   "metadata": {},
   "outputs": [],
   "source": [
    "model = SVR(C=1.0, epsilon=0.2)"
   ]
  },
  {
   "cell_type": "code",
   "execution_count": 21,
   "metadata": {},
   "outputs": [
    {
     "data": {
      "text/plain": [
       "SVR(epsilon=0.2)"
      ]
     },
     "execution_count": 21,
     "metadata": {},
     "output_type": "execute_result"
    }
   ],
   "source": [
    "model.fit(X_train,y_train)"
   ]
  },
  {
   "cell_type": "code",
   "execution_count": 22,
   "metadata": {},
   "outputs": [],
   "source": [
    "y_predict = model.predict(X_test)"
   ]
  },
  {
   "cell_type": "code",
   "execution_count": 23,
   "metadata": {},
   "outputs": [
    {
     "name": "stdout",
     "output_type": "stream",
     "text": [
      "0\n",
      "3\n",
      "2\n",
      "2\n"
     ]
    }
   ],
   "source": [
    "for i,c in enumerate(cols):\n",
    "    print(X_test.iloc[0,i])"
   ]
  },
  {
   "cell_type": "code",
   "execution_count": 25,
   "metadata": {},
   "outputs": [
    {
     "name": "stdout",
     "output_type": "stream",
     "text": [
      "prediction on one value is ==> 25547\n"
     ]
    }
   ],
   "source": [
    "print(f'prediction on one value is ==> {int(y_predict[0])}' )"
   ]
  },
  {
   "cell_type": "code",
   "execution_count": 28,
   "metadata": {},
   "outputs": [
    {
     "data": {
      "text/plain": [
       "30074"
      ]
     },
     "execution_count": 28,
     "metadata": {},
     "output_type": "execute_result"
    }
   ],
   "source": [
    "len(X_train)"
   ]
  },
  {
   "cell_type": "code",
   "execution_count": 36,
   "metadata": {},
   "outputs": [
    {
     "name": "stdout",
     "output_type": "stream",
     "text": [
      "10\n",
      "9\n",
      "8\n",
      "8\n"
     ]
    }
   ],
   "source": [
    "for c in cols:\n",
    "    print(enc.inverse_transform(X_test[c])[0])"
   ]
  },
  {
   "cell_type": "code",
   "execution_count": 38,
   "metadata": {},
   "outputs": [
    {
     "name": "stdout",
     "output_type": "stream",
     "text": [
      "['Q' 10 'J' 'K' 7 8 9 'A']\n",
      "[10 'Q' 'K' 'A' 8 9 'J' 7]\n",
      "['Q' 9 'K' 'A' 10 7 'J' 8]\n",
      "[8 'K' 9 7 'J' 'Q' 'A' 10]\n"
     ]
    }
   ],
   "source": [
    "for c in cols:\n",
    "    print(df[c].unique())"
   ]
  },
  {
   "cell_type": "code",
   "execution_count": 26,
   "metadata": {},
   "outputs": [
    {
     "data": {
      "text/html": [
       "<div>\n",
       "<style scoped>\n",
       "    .dataframe tbody tr th:only-of-type {\n",
       "        vertical-align: middle;\n",
       "    }\n",
       "\n",
       "    .dataframe tbody tr th {\n",
       "        vertical-align: top;\n",
       "    }\n",
       "\n",
       "    .dataframe thead th {\n",
       "        text-align: right;\n",
       "    }\n",
       "</style>\n",
       "<table border=\"1\" class=\"dataframe\">\n",
       "  <thead>\n",
       "    <tr style=\"text-align: right;\">\n",
       "      <th></th>\n",
       "      <th>Date</th>\n",
       "      <th>Raffle</th>\n",
       "      <th>Clubs</th>\n",
       "      <th>Diamond</th>\n",
       "      <th>Heart</th>\n",
       "      <th>Leaf</th>\n",
       "    </tr>\n",
       "  </thead>\n",
       "  <tbody>\n",
       "    <tr>\n",
       "      <th>0</th>\n",
       "      <td>2019-11-11</td>\n",
       "      <td>40592</td>\n",
       "      <td>Q</td>\n",
       "      <td>10</td>\n",
       "      <td>Q</td>\n",
       "      <td>8</td>\n",
       "    </tr>\n",
       "    <tr>\n",
       "      <th>1</th>\n",
       "      <td>2019-11-11</td>\n",
       "      <td>40591</td>\n",
       "      <td>10</td>\n",
       "      <td>Q</td>\n",
       "      <td>9</td>\n",
       "      <td>K</td>\n",
       "    </tr>\n",
       "    <tr>\n",
       "      <th>2</th>\n",
       "      <td>2019-11-11</td>\n",
       "      <td>40590</td>\n",
       "      <td>J</td>\n",
       "      <td>K</td>\n",
       "      <td>9</td>\n",
       "      <td>9</td>\n",
       "    </tr>\n",
       "    <tr>\n",
       "      <th>3</th>\n",
       "      <td>2019-11-11</td>\n",
       "      <td>40589</td>\n",
       "      <td>Q</td>\n",
       "      <td>K</td>\n",
       "      <td>K</td>\n",
       "      <td>7</td>\n",
       "    </tr>\n",
       "    <tr>\n",
       "      <th>4</th>\n",
       "      <td>2019-11-11</td>\n",
       "      <td>40588</td>\n",
       "      <td>10</td>\n",
       "      <td>A</td>\n",
       "      <td>A</td>\n",
       "      <td>J</td>\n",
       "    </tr>\n",
       "  </tbody>\n",
       "</table>\n",
       "</div>"
      ],
      "text/plain": [
       "        Date  Raffle Clubs Diamond Heart Leaf\n",
       "0 2019-11-11   40592     Q      10     Q    8\n",
       "1 2019-11-11   40591    10       Q     9    K\n",
       "2 2019-11-11   40590     J       K     9    9\n",
       "3 2019-11-11   40589     Q       K     K    7\n",
       "4 2019-11-11   40588    10       A     A    J"
      ]
     },
     "execution_count": 26,
     "metadata": {},
     "output_type": "execute_result"
    }
   ],
   "source": [
    "df.head()"
   ]
  },
  {
   "cell_type": "code",
   "execution_count": 29,
   "metadata": {},
   "outputs": [
    {
     "data": {
      "text/html": [
       "<div>\n",
       "<style scoped>\n",
       "    .dataframe tbody tr th:only-of-type {\n",
       "        vertical-align: middle;\n",
       "    }\n",
       "\n",
       "    .dataframe tbody tr th {\n",
       "        vertical-align: top;\n",
       "    }\n",
       "\n",
       "    .dataframe thead th {\n",
       "        text-align: right;\n",
       "    }\n",
       "</style>\n",
       "<table border=\"1\" class=\"dataframe\">\n",
       "  <thead>\n",
       "    <tr style=\"text-align: right;\">\n",
       "      <th></th>\n",
       "      <th>Date</th>\n",
       "      <th>Raffle</th>\n",
       "      <th>Clubs</th>\n",
       "      <th>Diamond</th>\n",
       "      <th>Heart</th>\n",
       "      <th>Leaf</th>\n",
       "    </tr>\n",
       "  </thead>\n",
       "  <tbody>\n",
       "    <tr>\n",
       "      <th>15045</th>\n",
       "      <td>2012-05-13</td>\n",
       "      <td>25547</td>\n",
       "      <td>9</td>\n",
       "      <td>9</td>\n",
       "      <td>8</td>\n",
       "      <td>K</td>\n",
       "    </tr>\n",
       "  </tbody>\n",
       "</table>\n",
       "</div>"
      ],
      "text/plain": [
       "            Date  Raffle Clubs Diamond Heart Leaf\n",
       "15045 2012-05-13   25547     9       9     8    K"
      ]
     },
     "execution_count": 29,
     "metadata": {},
     "output_type": "execute_result"
    }
   ],
   "source": [
    "df[df['Raffle'] == 25547]"
   ]
  },
  {
   "cell_type": "code",
   "execution_count": null,
   "metadata": {},
   "outputs": [],
   "source": []
  },
  {
   "cell_type": "code",
   "execution_count": 33,
   "metadata": {},
   "outputs": [],
   "source": [
    "df = pd.read_excel('Raffles.xlsx')"
   ]
  },
  {
   "cell_type": "code",
   "execution_count": 35,
   "metadata": {
    "scrolled": true
   },
   "outputs": [
    {
     "data": {
      "text/html": [
       "<div>\n",
       "<style scoped>\n",
       "    .dataframe tbody tr th:only-of-type {\n",
       "        vertical-align: middle;\n",
       "    }\n",
       "\n",
       "    .dataframe tbody tr th {\n",
       "        vertical-align: top;\n",
       "    }\n",
       "\n",
       "    .dataframe thead th {\n",
       "        text-align: right;\n",
       "    }\n",
       "</style>\n",
       "<table border=\"1\" class=\"dataframe\">\n",
       "  <thead>\n",
       "    <tr style=\"text-align: right;\">\n",
       "      <th></th>\n",
       "      <th>Date</th>\n",
       "      <th>Raffle</th>\n",
       "      <th>Clubs</th>\n",
       "      <th>Diamond</th>\n",
       "      <th>Heart</th>\n",
       "      <th>Leaf</th>\n",
       "    </tr>\n",
       "  </thead>\n",
       "  <tbody>\n",
       "    <tr>\n",
       "      <th>0</th>\n",
       "      <td>2019-11-11</td>\n",
       "      <td>40592</td>\n",
       "      <td>Q</td>\n",
       "      <td>10</td>\n",
       "      <td>Q</td>\n",
       "      <td>8</td>\n",
       "    </tr>\n",
       "    <tr>\n",
       "      <th>1</th>\n",
       "      <td>2019-11-11</td>\n",
       "      <td>40591</td>\n",
       "      <td>10</td>\n",
       "      <td>Q</td>\n",
       "      <td>9</td>\n",
       "      <td>K</td>\n",
       "    </tr>\n",
       "    <tr>\n",
       "      <th>2</th>\n",
       "      <td>2019-11-11</td>\n",
       "      <td>40590</td>\n",
       "      <td>J</td>\n",
       "      <td>K</td>\n",
       "      <td>9</td>\n",
       "      <td>9</td>\n",
       "    </tr>\n",
       "    <tr>\n",
       "      <th>3</th>\n",
       "      <td>2019-11-11</td>\n",
       "      <td>40589</td>\n",
       "      <td>Q</td>\n",
       "      <td>K</td>\n",
       "      <td>K</td>\n",
       "      <td>7</td>\n",
       "    </tr>\n",
       "    <tr>\n",
       "      <th>4</th>\n",
       "      <td>2019-11-11</td>\n",
       "      <td>40588</td>\n",
       "      <td>10</td>\n",
       "      <td>A</td>\n",
       "      <td>A</td>\n",
       "      <td>J</td>\n",
       "    </tr>\n",
       "    <tr>\n",
       "      <th>...</th>\n",
       "      <td>...</td>\n",
       "      <td>...</td>\n",
       "      <td>...</td>\n",
       "      <td>...</td>\n",
       "      <td>...</td>\n",
       "      <td>...</td>\n",
       "    </tr>\n",
       "    <tr>\n",
       "      <th>37588</th>\n",
       "      <td>1994-03-14</td>\n",
       "      <td>5</td>\n",
       "      <td>10</td>\n",
       "      <td>9</td>\n",
       "      <td>9</td>\n",
       "      <td>7</td>\n",
       "    </tr>\n",
       "    <tr>\n",
       "      <th>37589</th>\n",
       "      <td>1994-03-13</td>\n",
       "      <td>4</td>\n",
       "      <td>J</td>\n",
       "      <td>J</td>\n",
       "      <td>A</td>\n",
       "      <td>9</td>\n",
       "    </tr>\n",
       "    <tr>\n",
       "      <th>37590</th>\n",
       "      <td>1994-03-11</td>\n",
       "      <td>3</td>\n",
       "      <td>7</td>\n",
       "      <td>A</td>\n",
       "      <td>9</td>\n",
       "      <td>Q</td>\n",
       "    </tr>\n",
       "    <tr>\n",
       "      <th>37591</th>\n",
       "      <td>1994-03-10</td>\n",
       "      <td>2</td>\n",
       "      <td>9</td>\n",
       "      <td>K</td>\n",
       "      <td>K</td>\n",
       "      <td>Q</td>\n",
       "    </tr>\n",
       "    <tr>\n",
       "      <th>37592</th>\n",
       "      <td>1994-03-09</td>\n",
       "      <td>1</td>\n",
       "      <td>A</td>\n",
       "      <td>9</td>\n",
       "      <td>A</td>\n",
       "      <td>9</td>\n",
       "    </tr>\n",
       "  </tbody>\n",
       "</table>\n",
       "<p>37593 rows × 6 columns</p>\n",
       "</div>"
      ],
      "text/plain": [
       "            Date  Raffle Clubs Diamond Heart Leaf\n",
       "0     2019-11-11   40592     Q      10     Q    8\n",
       "1     2019-11-11   40591    10       Q     9    K\n",
       "2     2019-11-11   40590     J       K     9    9\n",
       "3     2019-11-11   40589     Q       K     K    7\n",
       "4     2019-11-11   40588    10       A     A    J\n",
       "...          ...     ...   ...     ...   ...  ...\n",
       "37588 1994-03-14       5    10       9     9    7\n",
       "37589 1994-03-13       4     J       J     A    9\n",
       "37590 1994-03-11       3     7       A     9    Q\n",
       "37591 1994-03-10       2     9       K     K    Q\n",
       "37592 1994-03-09       1     A       9     A    9\n",
       "\n",
       "[37593 rows x 6 columns]"
      ]
     },
     "execution_count": 35,
     "metadata": {},
     "output_type": "execute_result"
    }
   ],
   "source": [
    "df"
   ]
  },
  {
   "cell_type": "code",
   "execution_count": 111,
   "metadata": {},
   "outputs": [],
   "source": [
    "X_train, X_test, y_train, y_test = train_test_split(df['Date'],df['Clubs'])"
   ]
  },
  {
   "cell_type": "code",
   "execution_count": 112,
   "metadata": {},
   "outputs": [],
   "source": [
    "enc = LabelEncoder()\n",
    "encoded = enc.fit_transform(y_train.astype(str))"
   ]
  },
  {
   "cell_type": "code",
   "execution_count": 113,
   "metadata": {},
   "outputs": [
    {
     "data": {
      "text/plain": [
       "array([3, 6, 7, ..., 1, 3, 6])"
      ]
     },
     "execution_count": 113,
     "metadata": {},
     "output_type": "execute_result"
    }
   ],
   "source": [
    "encoded"
   ]
  },
  {
   "cell_type": "code",
   "execution_count": 70,
   "metadata": {},
   "outputs": [],
   "source": [
    "model = SVC()"
   ]
  },
  {
   "cell_type": "code",
   "execution_count": 71,
   "metadata": {},
   "outputs": [
    {
     "data": {
      "text/plain": [
       "SVC()"
      ]
     },
     "execution_count": 71,
     "metadata": {},
     "output_type": "execute_result"
    }
   ],
   "source": [
    "model.fit(np.resize(X_train,(28194,1)),encoded)"
   ]
  },
  {
   "cell_type": "code",
   "execution_count": 78,
   "metadata": {},
   "outputs": [
    {
     "data": {
      "text/plain": [
       "12124   2013-10-28\n",
       "20964   2009-04-22\n",
       "11177   2014-04-13\n",
       "29313   2004-07-17\n",
       "29776   2004-03-25\n",
       "           ...    \n",
       "16021   2011-11-20\n",
       "12889   2013-06-10\n",
       "10909   2014-06-05\n",
       "8285    2015-09-22\n",
       "25840   2006-07-19\n",
       "Name: Date, Length: 28194, dtype: datetime64[ns]"
      ]
     },
     "execution_count": 78,
     "metadata": {},
     "output_type": "execute_result"
    }
   ],
   "source": []
  },
  {
   "cell_type": "code",
   "execution_count": 81,
   "metadata": {},
   "outputs": [
    {
     "data": {
      "text/plain": [
       "array(['2013-10-28T00:00:00.000000000'], dtype='datetime64[ns]')"
      ]
     },
     "execution_count": 81,
     "metadata": {},
     "output_type": "execute_result"
    }
   ],
   "source": [
    "np.resize(X_train,(28194,1))[0]"
   ]
  },
  {
   "cell_type": "code",
   "execution_count": 83,
   "metadata": {},
   "outputs": [
    {
     "data": {
      "text/plain": [
       "array(['2006-01-25T00:00:00.000000000'], dtype='datetime64[ns]')"
      ]
     },
     "execution_count": 83,
     "metadata": {},
     "output_type": "execute_result"
    }
   ],
   "source": [
    "np.resize(X_test,(9399,1))[0]"
   ]
  },
  {
   "cell_type": "code",
   "execution_count": 85,
   "metadata": {},
   "outputs": [
    {
     "data": {
      "text/plain": [
       "array([6])"
      ]
     },
     "execution_count": 85,
     "metadata": {},
     "output_type": "execute_result"
    }
   ],
   "source": [
    "model.predict([np.resize(X_test,(9399,1))[0]])"
   ]
  },
  {
   "cell_type": "code",
   "execution_count": 109,
   "metadata": {},
   "outputs": [],
   "source": [
    "X_train, X_test, y_train, y_test = train_test_split(df['Date'],df['Diamond'])\n",
    "enc = LabelEncoder()\n",
    "encoded = enc.fit_transform(y_train.astype(str))"
   ]
  },
  {
   "cell_type": "code",
   "execution_count": 89,
   "metadata": {},
   "outputs": [],
   "source": [
    "diamond_model = SVC()"
   ]
  },
  {
   "cell_type": "code",
   "execution_count": 91,
   "metadata": {},
   "outputs": [
    {
     "data": {
      "text/plain": [
       "SVC()"
      ]
     },
     "execution_count": 91,
     "metadata": {},
     "output_type": "execute_result"
    }
   ],
   "source": [
    "diamond_model.fit(np.resize(X_train,(28194,1)),encoded)"
   ]
  },
  {
   "cell_type": "code",
   "execution_count": 92,
   "metadata": {},
   "outputs": [
    {
     "data": {
      "text/plain": [
       "array([5])"
      ]
     },
     "execution_count": 92,
     "metadata": {},
     "output_type": "execute_result"
    }
   ],
   "source": [
    "diamond_model.predict([np.resize(X_test,(9399,1))[0]])"
   ]
  },
  {
   "cell_type": "code",
   "execution_count": 106,
   "metadata": {},
   "outputs": [],
   "source": [
    "X_train, X_test, y_train, y_test = train_test_split(df['Date'],df['Heart'])\n",
    "heart = LabelEncoder()\n",
    "encoded = heart.fit_transform(y_train.astype(str))"
   ]
  },
  {
   "cell_type": "code",
   "execution_count": 95,
   "metadata": {},
   "outputs": [],
   "source": [
    "heart = SVC()"
   ]
  },
  {
   "cell_type": "code",
   "execution_count": 96,
   "metadata": {},
   "outputs": [
    {
     "data": {
      "text/plain": [
       "array([0])"
      ]
     },
     "execution_count": 96,
     "metadata": {},
     "output_type": "execute_result"
    }
   ],
   "source": [
    "heart.fit(np.resize(X_train,(28194,1)),encoded)\n",
    "heart.predict([np.resize(X_test,(9399,1))[0]])"
   ]
  },
  {
   "cell_type": "code",
   "execution_count": 103,
   "metadata": {},
   "outputs": [],
   "source": [
    "X_train, X_test, y_train, y_test = train_test_split(df['Date'],df['Leaf'])\n",
    "leaf = LabelEncoder()\n",
    "encoded = leaf.fit_transform(y_train.astype(str))\n"
   ]
  },
  {
   "cell_type": "code",
   "execution_count": 101,
   "metadata": {},
   "outputs": [
    {
     "data": {
      "text/plain": [
       "array([2])"
      ]
     },
     "execution_count": 101,
     "metadata": {},
     "output_type": "execute_result"
    }
   ],
   "source": [
    "leaf = SVC()\n",
    "leaf.fit(np.resize(X_train,(28194,1)),encoded)\n",
    "leaf.predict([np.resize(X_test,(9399,1))[0]])"
   ]
  },
  {
   "cell_type": "code",
   "execution_count": 105,
   "metadata": {},
   "outputs": [
    {
     "name": "stdout",
     "output_type": "stream",
     "text": [
      "['8']\n"
     ]
    }
   ],
   "source": [
    "print('leaf.inverse_transform([2]))"
   ]
  },
  {
   "cell_type": "code",
   "execution_count": 108,
   "metadata": {},
   "outputs": [
    {
     "name": "stdout",
     "output_type": "stream",
     "text": [
      "['10']\n"
     ]
    }
   ],
   "source": [
    "print(heart.inverse_transform([0]))"
   ]
  },
  {
   "cell_type": "code",
   "execution_count": 110,
   "metadata": {},
   "outputs": [
    {
     "name": "stdout",
     "output_type": "stream",
     "text": [
      "['J']\n"
     ]
    }
   ],
   "source": [
    "print(diamond.inverse_transform([5]))"
   ]
  },
  {
   "cell_type": "code",
   "execution_count": 114,
   "metadata": {},
   "outputs": [
    {
     "name": "stdout",
     "output_type": "stream",
     "text": [
      "['K']\n"
     ]
    }
   ],
   "source": [
    "print(clubs.inverse_transform([6]))"
   ]
  },
  {
   "cell_type": "code",
   "execution_count": 115,
   "metadata": {},
   "outputs": [
    {
     "data": {
      "text/plain": [
       "[array(['2008-07-30T00:00:00.000000000'], dtype='datetime64[ns]')]"
      ]
     },
     "execution_count": 115,
     "metadata": {},
     "output_type": "execute_result"
    }
   ],
   "source": [
    "[np.resize(X_test,(9399,1))[0]]"
   ]
  },
  {
   "cell_type": "code",
   "execution_count": 116,
   "metadata": {},
   "outputs": [
    {
     "data": {
      "text/html": [
       "<div>\n",
       "<style scoped>\n",
       "    .dataframe tbody tr th:only-of-type {\n",
       "        vertical-align: middle;\n",
       "    }\n",
       "\n",
       "    .dataframe tbody tr th {\n",
       "        vertical-align: top;\n",
       "    }\n",
       "\n",
       "    .dataframe thead th {\n",
       "        text-align: right;\n",
       "    }\n",
       "</style>\n",
       "<table border=\"1\" class=\"dataframe\">\n",
       "  <thead>\n",
       "    <tr style=\"text-align: right;\">\n",
       "      <th></th>\n",
       "      <th>Date</th>\n",
       "      <th>Raffle</th>\n",
       "      <th>Clubs</th>\n",
       "      <th>Diamond</th>\n",
       "      <th>Heart</th>\n",
       "      <th>Leaf</th>\n",
       "    </tr>\n",
       "  </thead>\n",
       "  <tbody>\n",
       "    <tr>\n",
       "      <th>22237</th>\n",
       "      <td>2008-07-30</td>\n",
       "      <td>18355</td>\n",
       "      <td>9</td>\n",
       "      <td>7</td>\n",
       "      <td>K</td>\n",
       "      <td>Q</td>\n",
       "    </tr>\n",
       "    <tr>\n",
       "      <th>22238</th>\n",
       "      <td>2008-07-30</td>\n",
       "      <td>18354</td>\n",
       "      <td>A</td>\n",
       "      <td>10</td>\n",
       "      <td>J</td>\n",
       "      <td>A</td>\n",
       "    </tr>\n",
       "    <tr>\n",
       "      <th>22239</th>\n",
       "      <td>2008-07-30</td>\n",
       "      <td>18353</td>\n",
       "      <td>J</td>\n",
       "      <td>9</td>\n",
       "      <td>J</td>\n",
       "      <td>K</td>\n",
       "    </tr>\n",
       "    <tr>\n",
       "      <th>22240</th>\n",
       "      <td>2008-07-30</td>\n",
       "      <td>18352</td>\n",
       "      <td>9</td>\n",
       "      <td>8</td>\n",
       "      <td>K</td>\n",
       "      <td>8</td>\n",
       "    </tr>\n",
       "    <tr>\n",
       "      <th>22241</th>\n",
       "      <td>2008-07-30</td>\n",
       "      <td>18351</td>\n",
       "      <td>A</td>\n",
       "      <td>J</td>\n",
       "      <td>9</td>\n",
       "      <td>9</td>\n",
       "    </tr>\n",
       "    <tr>\n",
       "      <th>22242</th>\n",
       "      <td>2008-07-30</td>\n",
       "      <td>18350</td>\n",
       "      <td>9</td>\n",
       "      <td>7</td>\n",
       "      <td>Q</td>\n",
       "      <td>J</td>\n",
       "    </tr>\n",
       "  </tbody>\n",
       "</table>\n",
       "</div>"
      ],
      "text/plain": [
       "            Date  Raffle Clubs Diamond Heart Leaf\n",
       "22237 2008-07-30   18355     9       7     K    Q\n",
       "22238 2008-07-30   18354     A      10     J    A\n",
       "22239 2008-07-30   18353     J       9     J    K\n",
       "22240 2008-07-30   18352     9       8     K    8\n",
       "22241 2008-07-30   18351     A       J     9    9\n",
       "22242 2008-07-30   18350     9       7     Q    J"
      ]
     },
     "execution_count": 116,
     "metadata": {},
     "output_type": "execute_result"
    }
   ],
   "source": [
    "df[df['Date'] ==  '2008-07-30']"
   ]
  },
  {
   "cell_type": "code",
   "execution_count": 232,
   "metadata": {},
   "outputs": [
    {
     "name": "stdout",
     "output_type": "stream",
     "text": [
      "input DAte ==> 2020-7-11 \n",
      "for club ==> ['A']\n",
      "for diamond ==> ['J']\n",
      "for heart ==> ['7']\n",
      "for leaf ==> ['A']\n"
     ]
    }
   ],
   "source": [
    "print(\"input DAte ==> 2020-7-11 \")\n",
    "enc = LabelEncoder()\n",
    "encoded = enc.fit_transform(df['Clubs'].astype(str))\n",
    "club = SVC()\n",
    "X = []\n",
    "for i in df['Date']:\n",
    "    X.append(datetime.datetime.fromisoformat(str(k)).timestamp())\n",
    "X = np.resize(np.array(X),(len(X),1))\n",
    "club.fit(X,encoded)\n",
    "_ = datetime.datetime.fromisoformat('2020-07-11 00:00:00').timestamp()\n",
    "a = str(_)[:10].replace('-','')\n",
    "a = float(a)\n",
    "output = club.predict(np.array([[a]]))\n",
    "print(\"for club ==> {}\".format(enc.inverse_transform(output)))\n",
    "enc = LabelEncoder()\n",
    "encoded = enc.fit_transform(df['Diamond'].astype(str))\n",
    "club = SVC()\n",
    "club.fit(X,encoded)\n",
    "_ = datetime.datetime.fromisoformat('2020-07-11 00:00:00').timestamp()\n",
    "a = str(_)[:10].replace('-','')\n",
    "a = float(a)\n",
    "output = club.predict(np.array([[a]]))\n",
    "print(\"for diamond ==> {}\".format(enc.inverse_transform(output)))\n",
    "enc = LabelEncoder()\n",
    "encoded = enc.fit_transform(df['Heart'].astype(str))\n",
    "club = SVC()\n",
    "club.fit(X,encoded)\n",
    "_ = datetime.datetime.fromisoformat('2020-07-11 00:00:00').timestamp()\n",
    "a = str(_)[:10].replace('-','')\n",
    "a = float(a)\n",
    "output = club.predict(np.array([[a]]))\n",
    "print(\"for heart ==> {}\".format(enc.inverse_transform(output)))\n",
    "enc = LabelEncoder()\n",
    "encoded = enc.fit_transform(df['Leaf'].astype(str))\n",
    "club = SVC()\n",
    "club.fit(X,encoded)\n",
    "_ = datetime.datetime.fromisoformat('2020-07-11 00:00:00').timestamp()\n",
    "a = str(_)[:10].replace('-','')\n",
    "a = float(a)\n",
    "output = club.predict(np.array([[a]]))\n",
    "print(\"for leaf ==> {}\".format(enc.inverse_transform(output)))"
   ]
  },
  {
   "cell_type": "code",
   "execution_count": 230,
   "metadata": {
    "scrolled": false
   },
   "outputs": [
    {
     "ename": "ValueError",
     "evalue": "Invalid isoformat string: '2020-7-11 00:00:00'",
     "output_type": "error",
     "traceback": [
      "\u001b[1;31m---------------------------------------------------------------------------\u001b[0m",
      "\u001b[1;31mValueError\u001b[0m                                Traceback (most recent call last)",
      "\u001b[1;32m<ipython-input-230-c1e9681d6510>\u001b[0m in \u001b[0;36m<module>\u001b[1;34m\u001b[0m\n\u001b[1;32m----> 1\u001b[1;33m \u001b[0m_\u001b[0m \u001b[1;33m=\u001b[0m \u001b[0mdatetime\u001b[0m\u001b[1;33m.\u001b[0m\u001b[0mdatetime\u001b[0m\u001b[1;33m.\u001b[0m\u001b[0mfromisoformat\u001b[0m\u001b[1;33m(\u001b[0m\u001b[1;34m'2020-7-11 00:00:00'\u001b[0m\u001b[1;33m)\u001b[0m\u001b[1;33m.\u001b[0m\u001b[0mtimestamp\u001b[0m\u001b[1;33m(\u001b[0m\u001b[1;33m)\u001b[0m\u001b[1;33m\u001b[0m\u001b[1;33m\u001b[0m\u001b[0m\n\u001b[0m\u001b[0;32m      2\u001b[0m \u001b[0ma\u001b[0m \u001b[1;33m=\u001b[0m \u001b[0mstr\u001b[0m\u001b[1;33m(\u001b[0m\u001b[0m_\u001b[0m\u001b[1;33m)\u001b[0m\u001b[1;33m[\u001b[0m\u001b[1;33m:\u001b[0m\u001b[1;36m10\u001b[0m\u001b[1;33m]\u001b[0m\u001b[1;33m.\u001b[0m\u001b[0mreplace\u001b[0m\u001b[1;33m(\u001b[0m\u001b[1;34m'-'\u001b[0m\u001b[1;33m,\u001b[0m\u001b[1;34m''\u001b[0m\u001b[1;33m)\u001b[0m\u001b[1;33m\u001b[0m\u001b[1;33m\u001b[0m\u001b[0m\n\u001b[0;32m      3\u001b[0m \u001b[0ma\u001b[0m \u001b[1;33m=\u001b[0m \u001b[0mfloat\u001b[0m\u001b[1;33m(\u001b[0m\u001b[0ma\u001b[0m\u001b[1;33m)\u001b[0m\u001b[1;33m\u001b[0m\u001b[1;33m\u001b[0m\u001b[0m\n\u001b[0;32m      4\u001b[0m \u001b[0moutput\u001b[0m \u001b[1;33m=\u001b[0m \u001b[0mclub\u001b[0m\u001b[1;33m.\u001b[0m\u001b[0mpredict\u001b[0m\u001b[1;33m(\u001b[0m\u001b[0mnp\u001b[0m\u001b[1;33m.\u001b[0m\u001b[0marray\u001b[0m\u001b[1;33m(\u001b[0m\u001b[1;33m[\u001b[0m\u001b[1;33m[\u001b[0m\u001b[0ma\u001b[0m\u001b[1;33m]\u001b[0m\u001b[1;33m]\u001b[0m\u001b[1;33m)\u001b[0m\u001b[1;33m)\u001b[0m\u001b[1;33m\u001b[0m\u001b[1;33m\u001b[0m\u001b[0m\n\u001b[0;32m      5\u001b[0m \u001b[0mprint\u001b[0m\u001b[1;33m(\u001b[0m\u001b[1;34m\"for club ==> {}\"\u001b[0m\u001b[1;33m.\u001b[0m\u001b[0mformat\u001b[0m\u001b[1;33m(\u001b[0m\u001b[0menc\u001b[0m\u001b[1;33m.\u001b[0m\u001b[0minverse_transform\u001b[0m\u001b[1;33m(\u001b[0m\u001b[0moutput\u001b[0m\u001b[1;33m)\u001b[0m\u001b[1;33m)\u001b[0m\u001b[1;33m)\u001b[0m\u001b[1;33m\u001b[0m\u001b[1;33m\u001b[0m\u001b[0m\n",
      "\u001b[1;31mValueError\u001b[0m: Invalid isoformat string: '2020-7-11 00:00:00'"
     ]
    }
   ],
   "source": [
    "_ = datetime.datetime.fromisoformat('2019-11-11 00:00:00').timestamp()\n",
    "a = str(_)[:10].replace('-','')\n",
    "a = float(a)\n",
    "output = club.predict(np.array([[a]]))\n",
    "print(\"for club ==> {}\".format(enc.inverse_transform(output)))"
   ]
  },
  {
   "cell_type": "code",
   "execution_count": 225,
   "metadata": {},
   "outputs": [
    {
     "data": {
      "text/plain": [
       "array([[1.5734592e+09]])"
      ]
     },
     "execution_count": 225,
     "metadata": {},
     "output_type": "execute_result"
    }
   ],
   "source": []
  },
  {
   "cell_type": "code",
   "execution_count": 160,
   "metadata": {},
   "outputs": [
    {
     "data": {
      "text/plain": [
       "1573459200.0"
      ]
     },
     "execution_count": 160,
     "metadata": {},
     "output_type": "execute_result"
    }
   ],
   "source": [
    "str(k) \n",
    "datetime.datetime.fromisoformat(str(k)).timestamp()"
   ]
  },
  {
   "cell_type": "code",
   "execution_count": 171,
   "metadata": {},
   "outputs": [],
   "source": [
    "a = str(k)[:10].replace('-','')"
   ]
  },
  {
   "cell_type": "code",
   "execution_count": 176,
   "metadata": {},
   "outputs": [],
   "source": []
  },
  {
   "cell_type": "code",
   "execution_count": 179,
   "metadata": {},
   "outputs": [
    {
     "data": {
      "text/plain": [
       "array([7, 0, 5, ..., 1, 3, 4])"
      ]
     },
     "execution_count": 179,
     "metadata": {},
     "output_type": "execute_result"
    }
   ],
   "source": [
    "encoded"
   ]
  },
  {
   "cell_type": "code",
   "execution_count": 214,
   "metadata": {},
   "outputs": [
    {
     "data": {
      "text/plain": [
       "numpy.float64"
      ]
     },
     "execution_count": 214,
     "metadata": {},
     "output_type": "execute_result"
    }
   ],
   "source": [
    "type(X[0][0]"
   ]
  },
  {
   "cell_type": "code",
   "execution_count": 217,
   "metadata": {},
   "outputs": [
    {
     "data": {
      "text/plain": [
       "float"
      ]
     },
     "execution_count": 217,
     "metadata": {},
     "output_type": "execute_result"
    }
   ],
   "source": [
    "type(float(a))"
   ]
  },
  {
   "cell_type": "code",
   "execution_count": 233,
   "metadata": {},
   "outputs": [],
   "source": [
    "x1 = df['Raffle']"
   ]
  },
  {
   "cell_type": "code",
   "execution_count": 242,
   "metadata": {},
   "outputs": [],
   "source": [
    "from xgboost import XGBClassifier"
   ]
  },
  {
   "cell_type": "code",
   "execution_count": 293,
   "metadata": {},
   "outputs": [
    {
     "name": "stdout",
     "output_type": "stream",
     "text": [
      "Clubs ==> ['Q']\n",
      "Diamond ==> ['K']\n",
      "Heart ==> ['9']\n",
      "Leaf ==> ['8']\n"
     ]
    }
   ],
   "source": [
    "enc = LabelEncoder()\n",
    "encoded = enc.fit_transform(df['Clubs'].astype(str))\n",
    "club = XGBClassifier()\n",
    "club.fit(np.resize(x1,(x1.shape[0],1)),encoded)\n",
    "o = enc.inverse_transform(club.predict(np.array([[40593]])))\n",
    "print(f\"Clubs ==> {o}\")\n",
    "enc = LabelEncoder()\n",
    "encoded = enc.fit_transform(df['Diamond'].astype(str))\n",
    "diamond = XGBClassifier()\n",
    "diamond.fit(np.resize(x1,(x1.shape[0],1)),encoded)\n",
    "o = enc.inverse_transform(diamond.predict(np.array([[40593]])))\n",
    "print(f\"Diamond ==> {o}\")\n",
    "enc = LabelEncoder()\n",
    "encoded = enc.fit_transform(df['Heart'].astype(str))\n",
    "heart = XGBClassifier()\n",
    "heart.fit(np.resize(x1,(x1.shape[0],1)),encoded)\n",
    "o = enc.inverse_transform(heart.predict(np.array([[40593]])))\n",
    "print(f\"Heart ==> {o}\")\n",
    "enc = LabelEncoder()\n",
    "encoded = enc.fit_transform(df['Leaf'].astype(str))\n",
    "leaf = XGBClassifier()\n",
    "leaf.fit(np.resize(x1,(x1.shape[0],1)),encoded)\n",
    "o = enc.inverse_transform(leaf.predict(np.array([[40593]])))\n",
    "print(f\"Leaf ==> {o}\")"
   ]
  },
  {
   "cell_type": "code",
   "execution_count": 258,
   "metadata": {},
   "outputs": [],
   "source": [
    "X2 = pd.DataFrame({'xdate':np.reshape(X,(X.shape[0])),'raffle':x1.values})"
   ]
  },
  {
   "cell_type": "code",
   "execution_count": 292,
   "metadata": {},
   "outputs": [
    {
     "name": "stdout",
     "output_type": "stream",
     "text": [
      "Clubs ==> ['Q']\n",
      "Diamond ==> ['Q']\n",
      "Heart ==> ['Q']\n",
      "Leaf ==> ['Q']\n"
     ]
    }
   ],
   "source": [
    "xpd = pd.DataFrame({'xdate':[1594450800.0],'raffle':[40593]})\n",
    "enc1 = LabelEncoder()\n",
    "encoded = enc1.fit_transform(df['Clubs'].astype(str))\n",
    "club = XGBClassifier()\n",
    "club.fit(X2,encoded)\n",
    "o = enc1.inverse_transform(club.predict(xpd))\n",
    "print(f\"Clubs ==> {o}\")\n",
    "enc2 = LabelEncoder()\n",
    "encoded = enc2.fit_transform(df['Diamond'].astype(str))\n",
    "diamond = XGBClassifier()\n",
    "diamond.fit(X2,encoded)\n",
    "o = enc2.inverse_transform(club.predict(xpd))\n",
    "print(f\"Diamond ==> {o}\")\n",
    "enc3 = LabelEncoder()\n",
    "encoded = enc3.fit_transform(df['Heart'].astype(str))\n",
    "heart = XGBClassifier()\n",
    "heart.fit(X2,encoded)\n",
    "o = enc3.inverse_transform(club.predict(xpd))\n",
    "print(f\"Heart ==> {o}\")\n",
    "enc4 = LabelEncoder()\n",
    "encoded = enc4.fit_transform(df['Leaf'].astype(str))\n",
    "leaf = XGBClassifier()\n",
    "leaf.fit(X2,encoded)\n",
    "o = enc4.inverse_transform(club.predict(xpd))\n",
    "print(f\"Leaf ==> {o}\")"
   ]
  },
  {
   "cell_type": "code",
   "execution_count": 294,
   "metadata": {},
   "outputs": [
    {
     "data": {
      "text/plain": [
       "XGBClassifier(base_score=0.5, booster='gbtree', colsample_bylevel=1,\n",
       "              colsample_bynode=1, colsample_bytree=1, gamma=0, gpu_id=-1,\n",
       "              importance_type='gain', interaction_constraints='',\n",
       "              learning_rate=0.300000012, max_delta_step=0, max_depth=6,\n",
       "              min_child_weight=1, missing=nan, monotone_constraints='()',\n",
       "              n_estimators=100, n_jobs=0, num_parallel_tree=1,\n",
       "              objective='multi:softprob', random_state=0, reg_alpha=0,\n",
       "              reg_lambda=1, scale_pos_weight=None, subsample=1,\n",
       "              tree_method='exact', validate_parameters=1, verbosity=None)"
      ]
     },
     "execution_count": 294,
     "metadata": {},
     "output_type": "execute_result"
    }
   ],
   "source": [
    "leaf"
   ]
  },
  {
   "cell_type": "code",
   "execution_count": 284,
   "metadata": {},
   "outputs": [],
   "source": []
  },
  {
   "cell_type": "code",
   "execution_count": 276,
   "metadata": {},
   "outputs": [
    {
     "data": {
      "text/html": [
       "<div>\n",
       "<style scoped>\n",
       "    .dataframe tbody tr th:only-of-type {\n",
       "        vertical-align: middle;\n",
       "    }\n",
       "\n",
       "    .dataframe tbody tr th {\n",
       "        vertical-align: top;\n",
       "    }\n",
       "\n",
       "    .dataframe thead th {\n",
       "        text-align: right;\n",
       "    }\n",
       "</style>\n",
       "<table border=\"1\" class=\"dataframe\">\n",
       "  <thead>\n",
       "    <tr style=\"text-align: right;\">\n",
       "      <th></th>\n",
       "      <th>xdata</th>\n",
       "      <th>raffle</th>\n",
       "    </tr>\n",
       "  </thead>\n",
       "  <tbody>\n",
       "    <tr>\n",
       "      <th>0</th>\n",
       "      <td>1.573459e+09</td>\n",
       "      <td>40572</td>\n",
       "    </tr>\n",
       "  </tbody>\n",
       "</table>\n",
       "</div>"
      ],
      "text/plain": [
       "          xdata  raffle\n",
       "0  1.573459e+09   40572"
      ]
     },
     "execution_count": 276,
     "metadata": {},
     "output_type": "execute_result"
    }
   ],
   "source": [
    "xpd"
   ]
  },
  {
   "cell_type": "code",
   "execution_count": 282,
   "metadata": {},
   "outputs": [],
   "source": [
    "_ = datetime.datetime.fromisoformat('2020-07-11 00:00:00').timestamp()\n",
    "a = str(_)[:10].replace('-','')\n",
    "a = float(a)"
   ]
  },
  {
   "cell_type": "code",
   "execution_count": 283,
   "metadata": {},
   "outputs": [
    {
     "data": {
      "text/plain": [
       "1594450800.0"
      ]
     },
     "execution_count": 283,
     "metadata": {},
     "output_type": "execute_result"
    }
   ],
   "source": [
    "a"
   ]
  },
  {
   "cell_type": "code",
   "execution_count": null,
   "metadata": {},
   "outputs": [],
   "source": []
  }
 ],
 "metadata": {
  "kernelspec": {
   "display_name": "Python 3",
   "language": "python",
   "name": "python3"
  },
  "language_info": {
   "codemirror_mode": {
    "name": "ipython",
    "version": 3
   },
   "file_extension": ".py",
   "mimetype": "text/x-python",
   "name": "python",
   "nbconvert_exporter": "python",
   "pygments_lexer": "ipython3",
   "version": "3.7.8"
  }
 },
 "nbformat": 4,
 "nbformat_minor": 4
}
